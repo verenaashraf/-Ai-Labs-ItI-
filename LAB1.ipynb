{
  "nbformat": 4,
  "nbformat_minor": 0,
  "metadata": {
    "colab": {
      "provenance": [],
      "authorship_tag": "ABX9TyOxQS2ccTD68gFZWIaBYP2h",
      "include_colab_link": true
    },
    "kernelspec": {
      "name": "python3",
      "display_name": "Python 3"
    },
    "language_info": {
      "name": "python"
    }
  },
  "cells": [
    {
      "cell_type": "markdown",
      "metadata": {
        "id": "view-in-github",
        "colab_type": "text"
      },
      "source": [
        "<a href=\"https://colab.research.google.com/github/verenaashraf/-Ai-Labs-ItI-/blob/main/LAB1.ipynb\" target=\"_parent\"><img src=\"https://colab.research.google.com/assets/colab-badge.svg\" alt=\"Open In Colab\"/></a>"
      ]
    },
    {
      "cell_type": "code",
      "execution_count": null,
      "metadata": {
        "id": "JPOO4OZvkh8w"
      },
      "outputs": [],
      "source": []
    },
    {
      "cell_type": "markdown",
      "source": [
        "1. Create number variables named num1, num2, num3 and assign them values 3, 4 and 5, then calculate the output of the following Arithmetic Operations with clarifying the calculation that you have made:\n",
        "\n",
        "a) num1+num2\n",
        "\n",
        "b) num3-num1\n",
        "\n",
        "c) num1*num2+num3\n",
        "\n",
        "d) num1*(num2+num3)\n",
        "\n",
        "e) num3/num1\n",
        "\n",
        "f) num3//num1\n",
        "\n",
        "g) num3%num1\n",
        "\n",
        "h) Change the variables (num1, num2, num3) to float point numbers and repeat Prob.1 from a to g"
      ],
      "metadata": {
        "id": "jbX5cW-8lydr"
      }
    },
    {
      "cell_type": "code",
      "source": [
        "#AI ITI LAB 1"
      ],
      "metadata": {
        "id": "oWKDQXJrmCJu"
      },
      "execution_count": null,
      "outputs": []
    },
    {
      "cell_type": "code",
      "source": [
        "num1=3\n",
        "num2=4\n",
        "num3=5"
      ],
      "metadata": {
        "id": "TV10rC8Zl_C0"
      },
      "execution_count": 1,
      "outputs": []
    },
    {
      "cell_type": "code",
      "source": [
        "num1+num2"
      ],
      "metadata": {
        "colab": {
          "base_uri": "https://localhost:8080/"
        },
        "id": "1GkaiwdNmS9b",
        "outputId": "3b2ffc9e-4ae3-4a3e-9bd8-1f9d58f5407f"
      },
      "execution_count": 2,
      "outputs": [
        {
          "output_type": "execute_result",
          "data": {
            "text/plain": [
              "7"
            ]
          },
          "metadata": {},
          "execution_count": 2
        }
      ]
    },
    {
      "cell_type": "code",
      "source": [
        "num3-num1"
      ],
      "metadata": {
        "colab": {
          "base_uri": "https://localhost:8080/"
        },
        "id": "q0Mc24K0mal1",
        "outputId": "2ef24b04-1acc-4a1b-93fc-2a52536c7487"
      },
      "execution_count": 3,
      "outputs": [
        {
          "output_type": "execute_result",
          "data": {
            "text/plain": [
              "2"
            ]
          },
          "metadata": {},
          "execution_count": 3
        }
      ]
    },
    {
      "cell_type": "code",
      "source": [
        "num1*num2+num3"
      ],
      "metadata": {
        "colab": {
          "base_uri": "https://localhost:8080/"
        },
        "id": "9H_uPShpmcge",
        "outputId": "ac86fab7-880c-4a85-c1fc-3936cfd479c4"
      },
      "execution_count": 4,
      "outputs": [
        {
          "output_type": "execute_result",
          "data": {
            "text/plain": [
              "17"
            ]
          },
          "metadata": {},
          "execution_count": 4
        }
      ]
    },
    {
      "cell_type": "code",
      "source": [
        "num1*(num2+num3)"
      ],
      "metadata": {
        "colab": {
          "base_uri": "https://localhost:8080/"
        },
        "id": "YDpkXFFPmiiL",
        "outputId": "b17d1c62-219b-4430-c3f8-b0ec1194cb5a"
      },
      "execution_count": 5,
      "outputs": [
        {
          "output_type": "execute_result",
          "data": {
            "text/plain": [
              "27"
            ]
          },
          "metadata": {},
          "execution_count": 5
        }
      ]
    },
    {
      "cell_type": "code",
      "source": [
        "num3/num1"
      ],
      "metadata": {
        "colab": {
          "base_uri": "https://localhost:8080/"
        },
        "id": "a_p4LbpimmRy",
        "outputId": "38d99f11-f4ab-4f76-88f1-92b4d8b949f9"
      },
      "execution_count": 6,
      "outputs": [
        {
          "output_type": "execute_result",
          "data": {
            "text/plain": [
              "1.6666666666666667"
            ]
          },
          "metadata": {},
          "execution_count": 6
        }
      ]
    },
    {
      "cell_type": "code",
      "source": [
        "num3//num1"
      ],
      "metadata": {
        "colab": {
          "base_uri": "https://localhost:8080/"
        },
        "id": "sjvKmhoCmq1O",
        "outputId": "2fd6fba0-e640-488a-c1fa-e64aef4bc63b"
      },
      "execution_count": 7,
      "outputs": [
        {
          "output_type": "execute_result",
          "data": {
            "text/plain": [
              "1"
            ]
          },
          "metadata": {},
          "execution_count": 7
        }
      ]
    },
    {
      "cell_type": "code",
      "source": [
        "num3%num1"
      ],
      "metadata": {
        "colab": {
          "base_uri": "https://localhost:8080/"
        },
        "id": "YYFKFi8Qmuzk",
        "outputId": "8f9d622b-1d50-4589-9abd-252edf99fa6e"
      },
      "execution_count": 8,
      "outputs": [
        {
          "output_type": "execute_result",
          "data": {
            "text/plain": [
              "2"
            ]
          },
          "metadata": {},
          "execution_count": 8
        }
      ]
    },
    {
      "cell_type": "code",
      "source": [
        "float(num1)"
      ],
      "metadata": {
        "colab": {
          "base_uri": "https://localhost:8080/"
        },
        "id": "sU0LSvSjm4Xr",
        "outputId": "52d44a9c-1003-4324-b854-ca0a9033c006"
      },
      "execution_count": 13,
      "outputs": [
        {
          "output_type": "execute_result",
          "data": {
            "text/plain": [
              "3.0"
            ]
          },
          "metadata": {},
          "execution_count": 13
        }
      ]
    },
    {
      "cell_type": "code",
      "source": [
        "float(num2)"
      ],
      "metadata": {
        "colab": {
          "base_uri": "https://localhost:8080/"
        },
        "id": "tDiWCXLFnP28",
        "outputId": "02ae5c71-d198-4d2b-de0c-7749de94fbb8"
      },
      "execution_count": 14,
      "outputs": [
        {
          "output_type": "execute_result",
          "data": {
            "text/plain": [
              "4.0"
            ]
          },
          "metadata": {},
          "execution_count": 14
        }
      ]
    },
    {
      "cell_type": "code",
      "source": [
        "float(num3)"
      ],
      "metadata": {
        "colab": {
          "base_uri": "https://localhost:8080/"
        },
        "outputId": "a7fc2e31-1047-4933-f4eb-a1ef685c35c9",
        "id": "HV0GcbRYnT3d"
      },
      "execution_count": 15,
      "outputs": [
        {
          "output_type": "execute_result",
          "data": {
            "text/plain": [
              "5.0"
            ]
          },
          "metadata": {},
          "execution_count": 15
        }
      ]
    },
    {
      "cell_type": "code",
      "source": [
        "num1+num2"
      ],
      "metadata": {
        "colab": {
          "base_uri": "https://localhost:8080/"
        },
        "outputId": "3b2ffc9e-4ae3-4a3e-9bd8-1f9d58f5407f",
        "id": "wseUlkQXnhEp"
      },
      "execution_count": null,
      "outputs": [
        {
          "output_type": "execute_result",
          "data": {
            "text/plain": [
              "7"
            ]
          },
          "metadata": {},
          "execution_count": 2
        }
      ]
    },
    {
      "cell_type": "code",
      "source": [
        "num3-num1"
      ],
      "metadata": {
        "colab": {
          "base_uri": "https://localhost:8080/"
        },
        "id": "cHeOBc1unlZ1",
        "outputId": "c925e420-d37e-4ba0-cb8f-ec35c15ec749"
      },
      "execution_count": 16,
      "outputs": [
        {
          "output_type": "execute_result",
          "data": {
            "text/plain": [
              "2"
            ]
          },
          "metadata": {},
          "execution_count": 16
        }
      ]
    },
    {
      "cell_type": "code",
      "source": [
        "num1*num2+num3"
      ],
      "metadata": {
        "colab": {
          "base_uri": "https://localhost:8080/"
        },
        "id": "AOW-_JkUnnYL",
        "outputId": "81191f48-707b-4a2b-dae4-915c93f56dba"
      },
      "execution_count": 17,
      "outputs": [
        {
          "output_type": "execute_result",
          "data": {
            "text/plain": [
              "17"
            ]
          },
          "metadata": {},
          "execution_count": 17
        }
      ]
    },
    {
      "cell_type": "code",
      "source": [
        "num1*(num2+num3)"
      ],
      "metadata": {
        "colab": {
          "base_uri": "https://localhost:8080/"
        },
        "id": "WnfCjqkknsaJ",
        "outputId": "58fd7758-0274-469b-f188-6e803c1780a4"
      },
      "execution_count": 18,
      "outputs": [
        {
          "output_type": "execute_result",
          "data": {
            "text/plain": [
              "27"
            ]
          },
          "metadata": {},
          "execution_count": 18
        }
      ]
    },
    {
      "cell_type": "code",
      "source": [
        "num3/num1"
      ],
      "metadata": {
        "colab": {
          "base_uri": "https://localhost:8080/"
        },
        "id": "K9JK_BBanwoL",
        "outputId": "de9fcb62-cd7f-4364-99ca-911259e1ed29"
      },
      "execution_count": 19,
      "outputs": [
        {
          "output_type": "execute_result",
          "data": {
            "text/plain": [
              "1.6666666666666667"
            ]
          },
          "metadata": {},
          "execution_count": 19
        }
      ]
    },
    {
      "cell_type": "code",
      "source": [
        "num3//num1"
      ],
      "metadata": {
        "colab": {
          "base_uri": "https://localhost:8080/"
        },
        "id": "ayHznkpyn3ya",
        "outputId": "40220a31-cc00-4a49-fb7b-272912f8c06b"
      },
      "execution_count": 20,
      "outputs": [
        {
          "output_type": "execute_result",
          "data": {
            "text/plain": [
              "1"
            ]
          },
          "metadata": {},
          "execution_count": 20
        }
      ]
    },
    {
      "cell_type": "code",
      "source": [
        "num3%num1"
      ],
      "metadata": {
        "colab": {
          "base_uri": "https://localhost:8080/"
        },
        "id": "opyWG07-n5bJ",
        "outputId": "b0c5c008-35e5-4d28-ed35-314a36c2c0b0"
      },
      "execution_count": 21,
      "outputs": [
        {
          "output_type": "execute_result",
          "data": {
            "text/plain": [
              "2"
            ]
          },
          "metadata": {},
          "execution_count": 21
        }
      ]
    },
    {
      "cell_type": "markdown",
      "source": [
        "2. Create variables named x, y, z, and g and assign them values 1,2,3, and 4, then calculate the output of the following Arithmetic\n",
        "Operations:\n",
        "\n",
        "a) x+y*z/g\n",
        "\n",
        "b) y**z"
      ],
      "metadata": {
        "id": "jeaNinsmn-eK"
      }
    },
    {
      "cell_type": "code",
      "source": [
        "x=1\n"
      ],
      "metadata": {
        "id": "wjmhYj16oFGT"
      },
      "execution_count": 23,
      "outputs": []
    },
    {
      "cell_type": "code",
      "source": [
        "y=2"
      ],
      "metadata": {
        "id": "iSR0r51ooIol"
      },
      "execution_count": 24,
      "outputs": []
    },
    {
      "cell_type": "code",
      "source": [
        "z=3"
      ],
      "metadata": {
        "id": "N5ylYRUmoKZb"
      },
      "execution_count": 25,
      "outputs": []
    },
    {
      "cell_type": "code",
      "source": [
        "g=4"
      ],
      "metadata": {
        "id": "v6gbVI-MoMKZ"
      },
      "execution_count": 26,
      "outputs": []
    },
    {
      "cell_type": "code",
      "source": [
        "x+y*z/g"
      ],
      "metadata": {
        "colab": {
          "base_uri": "https://localhost:8080/"
        },
        "id": "oA9a6xc3oN6T",
        "outputId": "5ecd5e52-fc19-4488-f18d-1b8ba5bd980d"
      },
      "execution_count": 27,
      "outputs": [
        {
          "output_type": "execute_result",
          "data": {
            "text/plain": [
              "2.5"
            ]
          },
          "metadata": {},
          "execution_count": 27
        }
      ]
    },
    {
      "cell_type": "code",
      "source": [
        "y**z"
      ],
      "metadata": {
        "colab": {
          "base_uri": "https://localhost:8080/"
        },
        "id": "UFJRB6mCoRQF",
        "outputId": "fccbe3a4-ce2d-42ef-a009-2c5cd362e4be"
      },
      "execution_count": 28,
      "outputs": [
        {
          "output_type": "execute_result",
          "data": {
            "text/plain": [
              "8"
            ]
          },
          "metadata": {},
          "execution_count": 28
        }
      ]
    },
    {
      "cell_type": "markdown",
      "source": [
        "3. Create str_a, str_b, str_c, and num which contain values \"Python\", \"is a\", \"times fun language\" and 1000.\n",
        "\n",
        "a) Concatenate str_a, str_b, num, and str_c respectively then return the new value in variable named str_ab\n",
        "\n",
        "b) Repeat str_a for 10 times and return the new value in str_a10"
      ],
      "metadata": {
        "id": "d1Ik25YcockW"
      }
    },
    {
      "cell_type": "code",
      "source": [
        "str_a=\"Python \""
      ],
      "metadata": {
        "id": "j2fUQF0soskz"
      },
      "execution_count": 35,
      "outputs": []
    },
    {
      "cell_type": "code",
      "source": [
        "str_b= \"is a \""
      ],
      "metadata": {
        "id": "Sa0k_Thno22x"
      },
      "execution_count": 36,
      "outputs": []
    },
    {
      "cell_type": "code",
      "source": [
        "str_c=\" times fun language\""
      ],
      "metadata": {
        "id": "IpwV9raopApr"
      },
      "execution_count": 37,
      "outputs": []
    },
    {
      "cell_type": "code",
      "source": [
        "num= 1000"
      ],
      "metadata": {
        "id": "SQvCsj60o9Ws"
      },
      "execution_count": 38,
      "outputs": []
    },
    {
      "cell_type": "code",
      "source": [
        "str_ab=str_a + str_b + str(num) +str_c"
      ],
      "metadata": {
        "id": "hz7TH4nVpJ5N"
      },
      "execution_count": 39,
      "outputs": []
    },
    {
      "cell_type": "code",
      "source": [
        "print(str_ab)"
      ],
      "metadata": {
        "colab": {
          "base_uri": "https://localhost:8080/"
        },
        "id": "VLdkw2Flpd8o",
        "outputId": "4009cc85-234e-47ac-a070-e8109b8103d5"
      },
      "execution_count": 40,
      "outputs": [
        {
          "output_type": "stream",
          "name": "stdout",
          "text": [
            "Python is a 1000 times fun language\n"
          ]
        }
      ]
    },
    {
      "cell_type": "code",
      "source": [
        "str_a10=str_a *10"
      ],
      "metadata": {
        "id": "3IvMXIwTptKj"
      },
      "execution_count": 41,
      "outputs": []
    },
    {
      "cell_type": "code",
      "source": [
        "print(str_a10)"
      ],
      "metadata": {
        "colab": {
          "base_uri": "https://localhost:8080/"
        },
        "id": "KK626fDWp6ll",
        "outputId": "9a6cdab9-fa7a-4138-efe5-4763d261bc4b"
      },
      "execution_count": 42,
      "outputs": [
        {
          "output_type": "stream",
          "name": "stdout",
          "text": [
            "Python Python Python Python Python Python Python Python Python Python \n"
          ]
        }
      ]
    },
    {
      "cell_type": "markdown",
      "source": [
        "# **Write a program that asks the user for a number and prints whether it’s odd or even.**"
      ],
      "metadata": {
        "id": "dY6kHF61qHyx"
      }
    },
    {
      "cell_type": "code",
      "source": [
        "num=int(input(\"Enter Number :\"))"
      ],
      "metadata": {
        "colab": {
          "base_uri": "https://localhost:8080/"
        },
        "id": "LVUjh6BzqOK9",
        "outputId": "1d28b2bd-fc36-4402-8f83-7ae3b3514e0c"
      },
      "execution_count": 43,
      "outputs": [
        {
          "name": "stdout",
          "output_type": "stream",
          "text": [
            "Enter Number :3\n"
          ]
        }
      ]
    },
    {
      "cell_type": "code",
      "source": [
        "if (num%2==0):\n",
        "  print(\"Even Number\")\n",
        "else:\n",
        "  print(\"Odd Number\")"
      ],
      "metadata": {
        "colab": {
          "base_uri": "https://localhost:8080/"
        },
        "id": "hpgnakF0qtBU",
        "outputId": "54502caa-1b24-4bcc-d862-f17aecfaea3d"
      },
      "execution_count": 44,
      "outputs": [
        {
          "output_type": "stream",
          "name": "stdout",
          "text": [
            "Odd Number\n"
          ]
        }
      ]
    },
    {
      "cell_type": "markdown",
      "source": [
        "**Input a student’s score (0–100) and print \"Pass\" if it’s ≥ 50, else \"Fail\".**"
      ],
      "metadata": {
        "id": "sqc3Kc3NrcQf"
      }
    },
    {
      "cell_type": "code",
      "source": [
        "score=int(input(\"Enter Your Score :\"))\n",
        "if (score>=50):\n",
        "  print(\"pass\")\n",
        "else:\n",
        "  print(\"Fail\")"
      ],
      "metadata": {
        "colab": {
          "base_uri": "https://localhost:8080/"
        },
        "id": "wijxH5ayrXlF",
        "outputId": "9f4f096c-fe53-4770-f057-76865ba584aa"
      },
      "execution_count": 46,
      "outputs": [
        {
          "output_type": "stream",
          "name": "stdout",
          "text": [
            "Enter Your Score :49\n",
            "Fail\n"
          ]
        }
      ]
    },
    {
      "cell_type": "markdown",
      "source": [
        "**Take 3 numbers as input and print the larger one.**"
      ],
      "metadata": {
        "id": "QM-FCMGrsGKl"
      }
    },
    {
      "cell_type": "code",
      "source": [
        "def largest_number (n1 , n2 ,n3):\n",
        "  if (n1>n2):\n",
        "    if (n1 > n3):\n",
        "      large=n1\n",
        "    else:\n",
        "      large=n3\n",
        "  else:\n",
        "    if (n2>n3):\n",
        "      large=n2\n",
        "    else:\n",
        "      large=n3\n",
        "  return(large)\n",
        "\n",
        "n1=int(input(\"Enter number 1:\"))\n",
        "n2=int(input(\"Enter number 2:\"))\n",
        "n3=int(input(\"Enter number 3:\"))\n",
        "largest_number (n1 , n2 ,n3)"
      ],
      "metadata": {
        "colab": {
          "base_uri": "https://localhost:8080/"
        },
        "id": "feoCOc8gsFRX",
        "outputId": "429a4c41-2466-426a-de26-b56cda4c0278"
      },
      "execution_count": 47,
      "outputs": [
        {
          "name": "stdout",
          "output_type": "stream",
          "text": [
            "Enter number 1:10\n",
            "Enter number 2:8\n",
            "Enter number 3:-1\n"
          ]
        },
        {
          "output_type": "execute_result",
          "data": {
            "text/plain": [
              "10"
            ]
          },
          "metadata": {},
          "execution_count": 47
        }
      ]
    },
    {
      "cell_type": "markdown",
      "source": [
        "**Use a for loop to print numbers from 1 to 10.**"
      ],
      "metadata": {
        "id": "JYn5DvD7t7gV"
      }
    },
    {
      "cell_type": "code",
      "source": [
        "for i in range(1, 11):\n",
        "    print(i)"
      ],
      "metadata": {
        "colab": {
          "base_uri": "https://localhost:8080/"
        },
        "id": "oYCyBhbJt9Ty",
        "outputId": "8ba0942d-0785-45e3-a70b-92e017641cfb"
      },
      "execution_count": 57,
      "outputs": [
        {
          "output_type": "stream",
          "name": "stdout",
          "text": [
            "1\n",
            "2\n",
            "3\n",
            "4\n",
            "5\n",
            "6\n",
            "7\n",
            "8\n",
            "9\n",
            "10\n"
          ]
        }
      ]
    },
    {
      "cell_type": "markdown",
      "source": [
        "Grade Calculator\n",
        "Input a score and use if / elif / else to print a grade:\n",
        "\n",
        "• A: 90–100\n",
        "\n",
        "• B: 80–89\n",
        "\n",
        "• C: 70–79\n",
        "\n",
        "• D: 60–69\n",
        "\n",
        "• F: below"
      ],
      "metadata": {
        "id": "50FFQaq2v5Db"
      }
    },
    {
      "cell_type": "code",
      "source": [
        "degree=int(input(\"Enter your degree:\"))\n",
        "if ((degree>=90 )and (degree<=100)):\n",
        "  Grade=\"A\"\n",
        "elif ((degree>=80 )and (degree<=89)):\n",
        "    Grade=\"B\"\n",
        "elif ((degree>=70 )and (degree<=79)):\n",
        "    Grade=\"c\"\n",
        "elif ((degree>=60 )and (degree<=69)):\n",
        "    Grade=\"D\"\n",
        "else:\n",
        "      Grade=\"Below\"\n",
        "print(Grade)\n"
      ],
      "metadata": {
        "colab": {
          "base_uri": "https://localhost:8080/"
        },
        "id": "esSABETjwDyN",
        "outputId": "432ff741-af7c-449a-970c-f81f5969e17e"
      },
      "execution_count": 59,
      "outputs": [
        {
          "output_type": "stream",
          "name": "stdout",
          "text": [
            "Enter your degree:89\n",
            "B\n"
          ]
        }
      ]
    },
    {
      "cell_type": "markdown",
      "source": [
        " **Multiplication Table\n",
        "Ask the user for a number and print its multiplication table from 1 to 10 using a for loop**"
      ],
      "metadata": {
        "id": "aariPWEMxpt8"
      }
    },
    {
      "cell_type": "code",
      "source": [
        "i=int(input(\"Enter Number:\"))\n",
        "for j in range(1,11):\n",
        "  print(f\"{i}*{j}={i*j}\")"
      ],
      "metadata": {
        "colab": {
          "base_uri": "https://localhost:8080/"
        },
        "id": "0KGbAwsvyRQd",
        "outputId": "2dbb71ce-cca8-493d-f9b6-3959348b47b6"
      },
      "execution_count": 60,
      "outputs": [
        {
          "output_type": "stream",
          "name": "stdout",
          "text": [
            "Enter Number:2\n",
            "2*1=2\n",
            "2*2=4\n",
            "2*3=6\n",
            "2*4=8\n",
            "2*5=10\n",
            "2*6=12\n",
            "2*7=14\n",
            "2*8=16\n",
            "2*9=18\n",
            "2*10=20\n"
          ]
        }
      ]
    },
    {
      "cell_type": "markdown",
      "source": [
        "**Sum of Even Numbers\n",
        "Use a loop to find the sum of all even numbers between 1 and 50.**"
      ],
      "metadata": {
        "id": "f_TQjmPxznsP"
      }
    },
    {
      "cell_type": "code",
      "source": [
        "even_sum=0\n",
        "for number in range(1,51):\n",
        "  if number%2==0:\n",
        "    even_sum+=number\n",
        "print(even_sum)"
      ],
      "metadata": {
        "colab": {
          "base_uri": "https://localhost:8080/"
        },
        "id": "B3hYbRHBztmo",
        "outputId": "2d4f412e-2f91-40cc-b829-01b9db6fe134"
      },
      "execution_count": 65,
      "outputs": [
        {
          "output_type": "stream",
          "name": "stdout",
          "text": [
            "650\n"
          ]
        }
      ]
    },
    {
      "cell_type": "markdown",
      "source": [
        "** Factorial with while\n",
        "Ask the user for a number and calculate its factorial using a while loop.**"
      ],
      "metadata": {
        "id": "qbI3ZNV11uKd"
      }
    },
    {
      "cell_type": "code",
      "source": [
        "num0=int(input(\"Enter Number:\"))\n",
        "factorial=1\n",
        "while(num0 >0):\n",
        "  factorial*=num0\n",
        "  num0=num0-1\n",
        "print(factorial)\n",
        "\n"
      ],
      "metadata": {
        "colab": {
          "base_uri": "https://localhost:8080/"
        },
        "id": "KoKQTLqS1uyr",
        "outputId": "1c6b5e59-acb7-4074-98ca-ee6b5349376f"
      },
      "execution_count": 70,
      "outputs": [
        {
          "output_type": "stream",
          "name": "stdout",
          "text": [
            "Enter Number:3\n",
            "6\n"
          ]
        }
      ]
    },
    {
      "cell_type": "markdown",
      "source": [
        "*italicized text*"
      ],
      "metadata": {
        "id": "wwSE6zzqrSP4"
      }
    }
  ]
}