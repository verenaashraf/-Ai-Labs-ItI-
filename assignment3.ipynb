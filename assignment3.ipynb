{
  "nbformat": 4,
  "nbformat_minor": 0,
  "metadata": {
    "colab": {
      "provenance": [],
      "authorship_tag": "ABX9TyMKhT3zUwR/D15tvMq9cPdc",
      "include_colab_link": true
    },
    "kernelspec": {
      "name": "python3",
      "display_name": "Python 3"
    },
    "language_info": {
      "name": "python"
    }
  },
  "cells": [
    {
      "cell_type": "markdown",
      "metadata": {
        "id": "view-in-github",
        "colab_type": "text"
      },
      "source": [
        "<a href=\"https://colab.research.google.com/github/verenaashraf/-Ai-Labs-ItI-/blob/main/assignment3.ipynb\" target=\"_parent\"><img src=\"https://colab.research.google.com/assets/colab-badge.svg\" alt=\"Open In Colab\"/></a>"
      ]
    },
    {
      "cell_type": "markdown",
      "source": [
        "Manual vs NumPy Mean\n",
        "Given a list of student ages:\n",
        "\n",
        "ages = [18, 21, 20, 19, 22, 23, 20, 21, 22, 19]\n",
        "\n",
        "• Compute the mean manually (using sum and len).\n",
        "\n",
        "• Verify using numpy.mean()."
      ],
      "metadata": {
        "id": "5krYKgAFMvpN"
      }
    },
    {
      "cell_type": "code",
      "source": [
        "import numpy as np\n",
        "ages = [18, 21, 20, 19, 22, 23, 20, 21, 22, 19]\n",
        "manual_mean = sum(ages) / len(ages)\n",
        "print(\"Manual Mean:\", manual_mean)\n",
        "numpy_mean = np.mean(ages)\n",
        "print(\"NumPy Mean:\", numpy_mean)\n"
      ],
      "metadata": {
        "colab": {
          "base_uri": "https://localhost:8080/"
        },
        "id": "FDR1C6IsM06W",
        "outputId": "2459da19-b873-4512-861c-2dd0d87067af"
      },
      "execution_count": 1,
      "outputs": [
        {
          "output_type": "stream",
          "name": "stdout",
          "text": [
            "Manual Mean: 20.5\n",
            "NumPy Mean: 20.5\n"
          ]
        }
      ]
    },
    {
      "cell_type": "markdown",
      "source": [
        "Median Without Sorting Function\n",
        "\n",
        "Generate a list of 15 random integers between 10 and 50.\n",
        "\n",
        "• Find the median manually (without numpy.median()).\n",
        "\n",
        "• Check with NumPy’s median."
      ],
      "metadata": {
        "id": "2Z_WHwHZNK7K"
      }
    },
    {
      "cell_type": "code",
      "source": [
        "import random\n",
        "numbers = random.sample(range(10, 51), 15)\n",
        "print(\"Random List:\", numbers)\n",
        "sorted_list = sorted(numbers)\n",
        "n = len(sorted_list)\n",
        "if n % 2 == 1:\n",
        "    manual_median = sorted_list[n // 2]\n",
        "else:\n",
        "    manual_median = (sorted_list[n // 2 - 1] + sorted_list[n // 2]) / 2\n",
        "print(\"Manual Median:\", manual_median)\n",
        "\n",
        "numpy_median = np.median(numbers)\n",
        "print(\"NumPy Median:\", numpy_median)\n"
      ],
      "metadata": {
        "colab": {
          "base_uri": "https://localhost:8080/"
        },
        "id": "JiWyNryrNaQQ",
        "outputId": "0dbd1a0e-3046-43e3-d1e1-e3e889bd63ce"
      },
      "execution_count": 2,
      "outputs": [
        {
          "output_type": "stream",
          "name": "stdout",
          "text": [
            "Random List: [26, 22, 19, 33, 24, 44, 29, 42, 34, 35, 32, 30, 49, 37, 21]\n",
            "Manual Median: 32\n",
            "NumPy Median: 32.0\n"
          ]
        }
      ]
    },
    {
      "cell_type": "markdown",
      "source": [
        "Range and Data Spread\n",
        "\n",
        "For the same list above, calculate:\n",
        "\n",
        "• Minimum\n",
        "\n",
        "• Maximum\n",
        "\n",
        "• Range (max − min)\n",
        "(Both manually and with NumPy)"
      ],
      "metadata": {
        "id": "uavywIq7Njeo"
      }
    },
    {
      "cell_type": "code",
      "source": [
        "manual_min = min(numbers)\n",
        "manual_max = max(numbers)\n",
        "manual_range = manual_max - manual_min\n",
        "print(\"Manual Min:\", manual_min)\n",
        "print(\"Manual Max:\", manual_max)\n",
        "print(\"Manual Range:\", manual_range)\n",
        "numpy_min = np.min(numbers)\n",
        "numpy_max = np.max(numbers)\n",
        "numpy_range = numpy_max - numpy_min\n",
        "print(\"NumPy Min:\", numpy_min)\n",
        "print(\"NumPy Max:\", numpy_max)\n",
        "print(\"NumPy Range:\", numpy_range)\n"
      ],
      "metadata": {
        "colab": {
          "base_uri": "https://localhost:8080/"
        },
        "id": "xBIR_qI2NynY",
        "outputId": "983abf21-1f7d-47b4-e94f-592ebba26ea6"
      },
      "execution_count": 3,
      "outputs": [
        {
          "output_type": "stream",
          "name": "stdout",
          "text": [
            "Manual Min: 19\n",
            "Manual Max: 49\n",
            "Manual Range: 30\n",
            "NumPy Min: 19\n",
            "NumPy Max: 49\n",
            "NumPy Range: 30\n"
          ]
        }
      ]
    },
    {
      "cell_type": "markdown",
      "source": [
        "Variance & Standard Deviation\n",
        "\n",
        "Given this dataset:\n",
        "\n",
        "data = [5, 7, 3, 7, 9, 10, 15, 7]\n",
        "\n",
        "• Calculate variance and standard deviation manually (formulas).\n",
        "\n",
        "• Compare with numpy.var() and numpy.std().\n",
        "\n"
      ],
      "metadata": {
        "id": "2G9363KyNqPn"
      }
    },
    {
      "cell_type": "code",
      "source": [
        "data = [5, 7, 3, 7, 9, 10, 15, 7]\n",
        "\n",
        "mean = sum(data) / len(data)\n",
        "squared_diffs = [(x - mean) ** 2 for x in data]\n",
        "manual_variance = sum(squared_diffs) / len(data)\n",
        "manual_std = manual_variance ** 0.5\n",
        "print(\"Manual Variance:\", manual_variance)\n",
        "print(\"Manual Std Dev:\", manual_std)\n",
        "numpy_variance = np.var(data)\n",
        "numpy_std = np.std(data)\n",
        "print(\"NumPy Variance:\", numpy_variance)\n",
        "print(\"NumPy Std Dev:\", numpy_std)\n"
      ],
      "metadata": {
        "colab": {
          "base_uri": "https://localhost:8080/"
        },
        "id": "grSMJv0wODO0",
        "outputId": "87df96a2-5a94-4a79-82bd-4c348ec1418e"
      },
      "execution_count": 7,
      "outputs": [
        {
          "output_type": "stream",
          "name": "stdout",
          "text": [
            "Manual Variance: 11.359375\n",
            "Manual Std Dev: 3.370367190678191\n",
            "NumPy Variance: 11.359375\n",
            "NumPy Std Dev: 3.370367190678191\n"
          ]
        }
      ]
    },
    {
      "cell_type": "markdown",
      "source": [
        "Quartiles & IQR\n",
        "\n",
        "Using numpy.percentile(), find the 25th, 50th, and 75th percentiles for a dataset.\n",
        "\n",
        "Then compute the Interquartile Range (IQR)."
      ],
      "metadata": {
        "id": "p3awVyrEOuhk"
      }
    },
    {
      "cell_type": "code",
      "source": [
        "q1 = np.percentile(data, 25)\n",
        "q2 = np.percentile(data, 50)\n",
        "q3 = np.percentile(data, 75)\n",
        "iqr = q3 - q1\n",
        "\n",
        "print(\"Q1 (25th percentile):\", q1)\n",
        "print(\"Q2 (Median):\", q2)\n",
        "print(\"Q3 (75th percentile):\", q3)\n",
        "print(\"IQR:\", iqr)\n"
      ],
      "metadata": {
        "colab": {
          "base_uri": "https://localhost:8080/"
        },
        "id": "4w68hZgKPKle",
        "outputId": "1d18389b-133d-4651-9610-0fcd5859ba9b"
      },
      "execution_count": 8,
      "outputs": [
        {
          "output_type": "stream",
          "name": "stdout",
          "text": [
            "Q1 (25th percentile): 6.5\n",
            "Q2 (Median): 7.0\n",
            "Q3 (75th percentile): 9.25\n",
            "IQR: 2.75\n"
          ]
        }
      ]
    },
    {
      "cell_type": "markdown",
      "source": [
        "Data Transformation & Statistics\n",
        "\n",
        "8. Z-Score Normalization\n",
        "Take any numeric list.\n",
        "\n",
        " Write a function that converts the list into z-scores manually.\n",
        "\n",
        "9. Moving Average\n",
        "\n",
        "Generate a list of 20 random integers between 1 and 100.\n",
        "\n",
        " Compute a moving average with window size 3 using list slicing.\n",
        "\n",
        " Compare with numpy.convolve().\n",
        "\n",
        "10.Outlier Detection (IQR method)\n",
        "\n",
        " Generate a list of 25 numbers from 1–50 and add two very large numbers\n",
        "(e.g., 300, 400).\n",
        "\n",
        " Detect outliers using IQR rules."
      ],
      "metadata": {
        "id": "aTGkP_HhPY6D"
      }
    },
    {
      "cell_type": "code",
      "source": [
        "def z_score_normalization(lst):\n",
        "    mean = sum(lst) / len(lst)\n",
        "    std = (sum([(x - mean) ** 2 for x in lst]) / len(lst)) ** 0.5\n",
        "    return [(x - mean) / std for x in lst]\n",
        "sample_data = [10, 20, 30, 40, 50]\n",
        "z_scores = z_score_normalization(sample_data)\n",
        "print(\"Z-Scores:\", z_scores)\n"
      ],
      "metadata": {
        "colab": {
          "base_uri": "https://localhost:8080/"
        },
        "id": "sZ0n1tqaPZus",
        "outputId": "62dfe41a-c6fc-492b-fb27-b400eaae8cc9"
      },
      "execution_count": 9,
      "outputs": [
        {
          "output_type": "stream",
          "name": "stdout",
          "text": [
            "Z-Scores: [-1.414213562373095, -0.7071067811865475, 0.0, 0.7071067811865475, 1.414213562373095]\n"
          ]
        }
      ]
    },
    {
      "cell_type": "code",
      "source": [
        "data = random.sample(range(1, 101), 20)\n",
        "print(\"Data:\", data)\n",
        "moving_avg = [sum(data[i:i+3]) / 3 for i in range(len(data) - 2)]\n",
        "print(\"Manual Moving Average:\", moving_avg)\n",
        "numpy_moving_avg = np.convolve(data, np.ones(3)/3, mode='valid')\n",
        "print(\"NumPy Moving Average:\", numpy_moving_avg)\n"
      ],
      "metadata": {
        "colab": {
          "base_uri": "https://localhost:8080/"
        },
        "id": "_jDb8UfrPzzc",
        "outputId": "e5df9c1d-5e3f-4121-fbba-889d83b28b2f"
      },
      "execution_count": 10,
      "outputs": [
        {
          "output_type": "stream",
          "name": "stdout",
          "text": [
            "Data: [21, 62, 38, 47, 17, 96, 15, 34, 19, 14, 89, 74, 59, 92, 6, 70, 53, 61, 45, 79]\n",
            "Manual Moving Average: [40.333333333333336, 49.0, 34.0, 53.333333333333336, 42.666666666666664, 48.333333333333336, 22.666666666666668, 22.333333333333332, 40.666666666666664, 59.0, 74.0, 75.0, 52.333333333333336, 56.0, 43.0, 61.333333333333336, 53.0, 61.666666666666664]\n",
            "NumPy Moving Average: [40.33333333 49.         34.         53.33333333 42.66666667 48.33333333\n",
            " 22.66666667 22.33333333 40.66666667 59.         74.         75.\n",
            " 52.33333333 56.         43.         61.33333333 53.         61.66666667]\n"
          ]
        }
      ]
    },
    {
      "cell_type": "code",
      "source": [
        "data = random.sample(range(1, 51), 25) + [300, 400]\n",
        "print(\"Data with Outliers:\", data)\n",
        "q1 = np.percentile(data, 25)\n",
        "q3 = np.percentile(data, 75)\n",
        "iqr = q3 - q1\n",
        "lower_bound = q1 - 1.5 * iqr\n",
        "upper_bound = q3 + 1.5 * iqr\n",
        "outliers = [x for x in data if x < lower_bound or x > upper_bound]\n",
        "print(\"Outliers:\", outliers)\n"
      ],
      "metadata": {
        "colab": {
          "base_uri": "https://localhost:8080/"
        },
        "id": "NQlspVAtP-ru",
        "outputId": "257fd3ce-8c82-4b21-bc9e-dabc4a8d9c6c"
      },
      "execution_count": 11,
      "outputs": [
        {
          "output_type": "stream",
          "name": "stdout",
          "text": [
            "Data with Outliers: [23, 45, 17, 37, 20, 3, 14, 27, 33, 11, 22, 34, 6, 44, 24, 18, 13, 28, 1, 48, 9, 31, 4, 26, 36, 300, 400]\n",
            "Outliers: [300, 400]\n"
          ]
        }
      ]
    }
  ]
}